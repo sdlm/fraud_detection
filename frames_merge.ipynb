{
 "cells": [
  {
   "cell_type": "code",
   "execution_count": 3,
   "metadata": {},
   "outputs": [],
   "source": [
    "%matplotlib inline\n",
    "import numpy as np\n",
    "import matplotlib.pyplot as plt\n",
    "import seaborn\n",
    "import pandas as pd\n",
    "seaborn.set()"
   ]
  },
  {
   "cell_type": "code",
   "execution_count": 8,
   "metadata": {},
   "outputs": [],
   "source": [
    "frames = [pd.read_csv(f\"./data/fraud_analytics_user_statistic_0{i}.csv\") for i in range(9)]"
   ]
  },
  {
   "cell_type": "code",
   "execution_count": 9,
   "metadata": {},
   "outputs": [
    {
     "data": {
      "text/html": [
       "<div>\n",
       "<style scoped>\n",
       "    .dataframe tbody tr th:only-of-type {\n",
       "        vertical-align: middle;\n",
       "    }\n",
       "\n",
       "    .dataframe tbody tr th {\n",
       "        vertical-align: top;\n",
       "    }\n",
       "\n",
       "    .dataframe thead th {\n",
       "        text-align: right;\n",
       "    }\n",
       "</style>\n",
       "<table border=\"1\" class=\"dataframe\">\n",
       "  <thead>\n",
       "    <tr style=\"text-align: right;\">\n",
       "      <th></th>\n",
       "      <th>user_pseudo_id</th>\n",
       "      <th>distinct_events_count</th>\n",
       "      <th>events_count</th>\n",
       "      <th>all_interaction_duration</th>\n",
       "      <th>demo_account_created_count</th>\n",
       "      <th>demo_withdrawal_clicked_count</th>\n",
       "      <th>upload_poi_fail_count</th>\n",
       "      <th>reminder_not_now_clicked_count</th>\n",
       "      <th>invalid_PA_password_count</th>\n",
       "      <th>new_tr_account_leverage_selected_count</th>\n",
       "      <th>...</th>\n",
       "      <th>go_to_mt4_click_count</th>\n",
       "      <th>firebase_in_app_message_dismiss_count</th>\n",
       "      <th>close_game_count</th>\n",
       "      <th>secret_word_support_clicked_count</th>\n",
       "      <th>terminal_alert_count</th>\n",
       "      <th>profile_classic_terminal_changed_count</th>\n",
       "      <th>profile_mini_terminal_changed_count</th>\n",
       "      <th>screen_bitcoin_deposit_count</th>\n",
       "      <th>bitcoin_share_clicked_count</th>\n",
       "      <th>bitcoin_verify_clicked_count</th>\n",
       "    </tr>\n",
       "  </thead>\n",
       "  <tbody>\n",
       "    <tr>\n",
       "      <th>0</th>\n",
       "      <td>9A3FC1F45907411D8E8CF5C453425A90</td>\n",
       "      <td>132</td>\n",
       "      <td>134579</td>\n",
       "      <td>10952146920010</td>\n",
       "      <td>3</td>\n",
       "      <td>4</td>\n",
       "      <td>4</td>\n",
       "      <td>22</td>\n",
       "      <td>19</td>\n",
       "      <td>0</td>\n",
       "      <td>...</td>\n",
       "      <td>0</td>\n",
       "      <td>0</td>\n",
       "      <td>0</td>\n",
       "      <td>0</td>\n",
       "      <td>0</td>\n",
       "      <td>0</td>\n",
       "      <td>2</td>\n",
       "      <td>5</td>\n",
       "      <td>19</td>\n",
       "      <td>1</td>\n",
       "    </tr>\n",
       "    <tr>\n",
       "      <th>1</th>\n",
       "      <td>d82712e978ee05dde29358315ba8dad2</td>\n",
       "      <td>123</td>\n",
       "      <td>16185</td>\n",
       "      <td>13039225733004</td>\n",
       "      <td>3</td>\n",
       "      <td>0</td>\n",
       "      <td>0</td>\n",
       "      <td>30</td>\n",
       "      <td>4</td>\n",
       "      <td>1</td>\n",
       "      <td>...</td>\n",
       "      <td>0</td>\n",
       "      <td>0</td>\n",
       "      <td>0</td>\n",
       "      <td>0</td>\n",
       "      <td>0</td>\n",
       "      <td>34</td>\n",
       "      <td>56</td>\n",
       "      <td>0</td>\n",
       "      <td>0</td>\n",
       "      <td>0</td>\n",
       "    </tr>\n",
       "    <tr>\n",
       "      <th>2</th>\n",
       "      <td>ece3c9332f0f67f2ce6a14d94971a991</td>\n",
       "      <td>119</td>\n",
       "      <td>72816</td>\n",
       "      <td>8605346491000</td>\n",
       "      <td>2</td>\n",
       "      <td>0</td>\n",
       "      <td>0</td>\n",
       "      <td>45</td>\n",
       "      <td>1</td>\n",
       "      <td>3</td>\n",
       "      <td>...</td>\n",
       "      <td>0</td>\n",
       "      <td>0</td>\n",
       "      <td>0</td>\n",
       "      <td>0</td>\n",
       "      <td>0</td>\n",
       "      <td>0</td>\n",
       "      <td>2</td>\n",
       "      <td>0</td>\n",
       "      <td>0</td>\n",
       "      <td>0</td>\n",
       "    </tr>\n",
       "    <tr>\n",
       "      <th>3</th>\n",
       "      <td>4B22869672DD4F3CAA08E8ABE55AC346</td>\n",
       "      <td>119</td>\n",
       "      <td>107315</td>\n",
       "      <td>9793530702000</td>\n",
       "      <td>1</td>\n",
       "      <td>0</td>\n",
       "      <td>40</td>\n",
       "      <td>108</td>\n",
       "      <td>0</td>\n",
       "      <td>0</td>\n",
       "      <td>...</td>\n",
       "      <td>0</td>\n",
       "      <td>0</td>\n",
       "      <td>0</td>\n",
       "      <td>0</td>\n",
       "      <td>0</td>\n",
       "      <td>0</td>\n",
       "      <td>0</td>\n",
       "      <td>2</td>\n",
       "      <td>0</td>\n",
       "      <td>1</td>\n",
       "    </tr>\n",
       "    <tr>\n",
       "      <th>4</th>\n",
       "      <td>4e0cd01370db6df16c1135771b4f4244</td>\n",
       "      <td>118</td>\n",
       "      <td>146922</td>\n",
       "      <td>14815905252000</td>\n",
       "      <td>1</td>\n",
       "      <td>0</td>\n",
       "      <td>0</td>\n",
       "      <td>15</td>\n",
       "      <td>1</td>\n",
       "      <td>2</td>\n",
       "      <td>...</td>\n",
       "      <td>0</td>\n",
       "      <td>0</td>\n",
       "      <td>0</td>\n",
       "      <td>0</td>\n",
       "      <td>0</td>\n",
       "      <td>0</td>\n",
       "      <td>0</td>\n",
       "      <td>0</td>\n",
       "      <td>0</td>\n",
       "      <td>0</td>\n",
       "    </tr>\n",
       "  </tbody>\n",
       "</table>\n",
       "<p>5 rows × 204 columns</p>\n",
       "</div>"
      ],
      "text/plain": [
       "                     user_pseudo_id  distinct_events_count  events_count  \\\n",
       "0  9A3FC1F45907411D8E8CF5C453425A90                    132        134579   \n",
       "1  d82712e978ee05dde29358315ba8dad2                    123         16185   \n",
       "2  ece3c9332f0f67f2ce6a14d94971a991                    119         72816   \n",
       "3  4B22869672DD4F3CAA08E8ABE55AC346                    119        107315   \n",
       "4  4e0cd01370db6df16c1135771b4f4244                    118        146922   \n",
       "\n",
       "   all_interaction_duration  demo_account_created_count  \\\n",
       "0            10952146920010                           3   \n",
       "1            13039225733004                           3   \n",
       "2             8605346491000                           2   \n",
       "3             9793530702000                           1   \n",
       "4            14815905252000                           1   \n",
       "\n",
       "   demo_withdrawal_clicked_count  upload_poi_fail_count  \\\n",
       "0                              4                      4   \n",
       "1                              0                      0   \n",
       "2                              0                      0   \n",
       "3                              0                     40   \n",
       "4                              0                      0   \n",
       "\n",
       "   reminder_not_now_clicked_count  invalid_PA_password_count  \\\n",
       "0                              22                         19   \n",
       "1                              30                          4   \n",
       "2                              45                          1   \n",
       "3                             108                          0   \n",
       "4                              15                          1   \n",
       "\n",
       "   new_tr_account_leverage_selected_count  ...  go_to_mt4_click_count  \\\n",
       "0                                       0  ...                      0   \n",
       "1                                       1  ...                      0   \n",
       "2                                       3  ...                      0   \n",
       "3                                       0  ...                      0   \n",
       "4                                       2  ...                      0   \n",
       "\n",
       "   firebase_in_app_message_dismiss_count  close_game_count  \\\n",
       "0                                      0                 0   \n",
       "1                                      0                 0   \n",
       "2                                      0                 0   \n",
       "3                                      0                 0   \n",
       "4                                      0                 0   \n",
       "\n",
       "   secret_word_support_clicked_count  terminal_alert_count  \\\n",
       "0                                  0                     0   \n",
       "1                                  0                     0   \n",
       "2                                  0                     0   \n",
       "3                                  0                     0   \n",
       "4                                  0                     0   \n",
       "\n",
       "   profile_classic_terminal_changed_count  \\\n",
       "0                                       0   \n",
       "1                                      34   \n",
       "2                                       0   \n",
       "3                                       0   \n",
       "4                                       0   \n",
       "\n",
       "   profile_mini_terminal_changed_count  screen_bitcoin_deposit_count  \\\n",
       "0                                    2                             5   \n",
       "1                                   56                             0   \n",
       "2                                    2                             0   \n",
       "3                                    0                             2   \n",
       "4                                    0                             0   \n",
       "\n",
       "   bitcoin_share_clicked_count  bitcoin_verify_clicked_count  \n",
       "0                           19                             1  \n",
       "1                            0                             0  \n",
       "2                            0                             0  \n",
       "3                            0                             1  \n",
       "4                            0                             0  \n",
       "\n",
       "[5 rows x 204 columns]"
      ]
     },
     "execution_count": 9,
     "metadata": {},
     "output_type": "execute_result"
    }
   ],
   "source": [
    "frames[0].head()"
   ]
  },
  {
   "cell_type": "code",
   "execution_count": 10,
   "metadata": {},
   "outputs": [
    {
     "data": {
      "text/plain": [
       "((95925, 204), (110407, 204))"
      ]
     },
     "execution_count": 10,
     "metadata": {},
     "output_type": "execute_result"
    }
   ],
   "source": [
    "frames[0].shape, frames[1].shape"
   ]
  },
  {
   "cell_type": "code",
   "execution_count": 12,
   "metadata": {},
   "outputs": [],
   "source": [
    "all_data = pd.concat(frames)"
   ]
  },
  {
   "cell_type": "code",
   "execution_count": 14,
   "metadata": {},
   "outputs": [
    {
     "data": {
      "text/plain": [
       "True"
      ]
     },
     "execution_count": 14,
     "metadata": {},
     "output_type": "execute_result"
    }
   ],
   "source": [
    "all_data.shape[0] == sum([df.shape[0] for df in frames])"
   ]
  },
  {
   "cell_type": "code",
   "execution_count": 15,
   "metadata": {},
   "outputs": [],
   "source": [
    "all_data.to_csv('./data/all_data.csv', index=False)"
   ]
  },
  {
   "cell_type": "code",
   "execution_count": 18,
   "metadata": {},
   "outputs": [
    {
     "name": "stdout",
     "output_type": "stream",
     "text": [
      "<class 'pandas.core.frame.DataFrame'>\n",
      "Int64Index: 963925 entries, 0 to 98314\n",
      "Columns: 204 entries, user_pseudo_id to bitcoin_verify_clicked_count\n",
      "dtypes: int64(203), object(1)\n",
      "memory usage: 1.5 GB\n"
     ]
    }
   ],
   "source": [
    "all_data.info(memory_usage='deep')"
   ]
  }
 ],
 "metadata": {
  "kernelspec": {
   "display_name": "Python 3",
   "language": "python",
   "name": "python3"
  },
  "language_info": {
   "codemirror_mode": {
    "name": "ipython",
    "version": 3
   },
   "file_extension": ".py",
   "mimetype": "text/x-python",
   "name": "python",
   "nbconvert_exporter": "python",
   "pygments_lexer": "ipython3",
   "version": "3.7.3"
  }
 },
 "nbformat": 4,
 "nbformat_minor": 2
}
